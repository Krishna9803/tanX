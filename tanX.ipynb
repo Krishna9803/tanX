{
  "nbformat": 4,
  "nbformat_minor": 0,
  "metadata": {
    "colab": {
      "provenance": [],
      "authorship_tag": "ABX9TyM59Y6vL4HvLmv2EoDN2O0R",
      "include_colab_link": true
    },
    "kernelspec": {
      "name": "python3",
      "display_name": "Python 3"
    },
    "language_info": {
      "name": "python"
    }
  },
  "cells": [
    {
      "cell_type": "markdown",
      "metadata": {
        "id": "view-in-github",
        "colab_type": "text"
      },
      "source": [
        "<a href=\"https://colab.research.google.com/github/Krishna9803/tanX/blob/main/tanX.ipynb\" target=\"_parent\"><img src=\"https://colab.research.google.com/assets/colab-badge.svg\" alt=\"Open In Colab\"/></a>"
      ]
    },
    {
      "cell_type": "code",
      "source": [
        "import pandas as pd\n",
        "from datetime import datetime, timedelta\n",
        "import random\n",
        "\n",
        "# Generate a sample dataset\n",
        "order_ids = list(range(1, 101))\n",
        "customer_ids = [random.randint(1, 57) for _ in range(100)]\n",
        "order_dates = [datetime(2022, 1, 1) + timedelta(days=random.randint(1, 365)) for _ in range(100)]\n",
        "product_ids =  [random.randint(1, 123) for _ in range(100)]\n",
        "product_names = [f'Product_{i}' for i in range(1, 123)]\n",
        "product_prices = [random.randint(10, 1000) for _ in range(100)]  # Whole numbers\n",
        "quantities = [random.randint(1, 7) for _ in range(100)]\n",
        "\n",
        "data = {\n",
        "    'order_id': order_ids,\n",
        "    'customer_id': customer_ids,\n",
        "    'order_date': order_dates,\n",
        "    'product_id': (product_ids * 10)[:100],\n",
        "    'product_name': (product_names * 10)[:100],\n",
        "    'product_price': (product_prices * 10)[:100],\n",
        "    'quantity': quantities\n",
        "}\n",
        "\n",
        "# Create DataFrame\n",
        "df = pd.DataFrame(data)\n",
        "\n",
        "# Save DataFrame to CSV\n",
        "df.to_csv('orders.csv', index=False)\n"
      ],
      "metadata": {
        "id": "uwno2qZ9PO-M"
      },
      "execution_count": null,
      "outputs": []
    },
    {
      "cell_type": "code",
      "execution_count": null,
      "metadata": {
        "colab": {
          "base_uri": "https://localhost:8080/",
          "height": 17
        },
        "id": "y3LRgkk5PMPu",
        "outputId": "3f6dce27-cb13-4bef-a1cf-75695b2b93fe"
      },
      "outputs": [
        {
          "output_type": "display_data",
          "data": {
            "text/plain": [
              "<IPython.core.display.Javascript object>"
            ],
            "application/javascript": [
              "\n",
              "    async function download(id, filename, size) {\n",
              "      if (!google.colab.kernel.accessAllowed) {\n",
              "        return;\n",
              "      }\n",
              "      const div = document.createElement('div');\n",
              "      const label = document.createElement('label');\n",
              "      label.textContent = `Downloading \"${filename}\": `;\n",
              "      div.appendChild(label);\n",
              "      const progress = document.createElement('progress');\n",
              "      progress.max = size;\n",
              "      div.appendChild(progress);\n",
              "      document.body.appendChild(div);\n",
              "\n",
              "      const buffers = [];\n",
              "      let downloaded = 0;\n",
              "\n",
              "      const channel = await google.colab.kernel.comms.open(id);\n",
              "      // Send a message to notify the kernel that we're ready.\n",
              "      channel.send({})\n",
              "\n",
              "      for await (const message of channel.messages) {\n",
              "        // Send a message to notify the kernel that we're ready.\n",
              "        channel.send({})\n",
              "        if (message.buffers) {\n",
              "          for (const buffer of message.buffers) {\n",
              "            buffers.push(buffer);\n",
              "            downloaded += buffer.byteLength;\n",
              "            progress.value = downloaded;\n",
              "          }\n",
              "        }\n",
              "      }\n",
              "      const blob = new Blob(buffers, {type: 'application/binary'});\n",
              "      const a = document.createElement('a');\n",
              "      a.href = window.URL.createObjectURL(blob);\n",
              "      a.download = filename;\n",
              "      div.appendChild(a);\n",
              "      a.click();\n",
              "      div.remove();\n",
              "    }\n",
              "  "
            ]
          },
          "metadata": {}
        },
        {
          "output_type": "display_data",
          "data": {
            "text/plain": [
              "<IPython.core.display.Javascript object>"
            ],
            "application/javascript": [
              "download(\"download_605e2bce-bfa8-4307-a1d7-3d6e7bcfea13\", \"orders.csv\", 3749)"
            ]
          },
          "metadata": {}
        }
      ],
      "source": [
        "from google.colab import files\n",
        "\n",
        "# Provide the correct file path\n",
        "file_path = 'orders.csv'\n",
        "\n",
        "# Download the file\n",
        "files.download(file_path)\n"
      ]
    },
    {
      "cell_type": "code",
      "source": [
        "pip install pandas"
      ],
      "metadata": {
        "colab": {
          "base_uri": "https://localhost:8080/"
        },
        "id": "XEdFYus2QOho",
        "outputId": "9a2ed789-0c46-4710-80a9-e25e2308ccee"
      },
      "execution_count": null,
      "outputs": [
        {
          "output_type": "stream",
          "name": "stdout",
          "text": [
            "Requirement already satisfied: pandas in /usr/local/lib/python3.10/dist-packages (1.5.3)\n",
            "Requirement already satisfied: python-dateutil>=2.8.1 in /usr/local/lib/python3.10/dist-packages (from pandas) (2.8.2)\n",
            "Requirement already satisfied: pytz>=2020.1 in /usr/local/lib/python3.10/dist-packages (from pandas) (2023.4)\n",
            "Requirement already satisfied: numpy>=1.21.0 in /usr/local/lib/python3.10/dist-packages (from pandas) (1.23.5)\n",
            "Requirement already satisfied: six>=1.5 in /usr/local/lib/python3.10/dist-packages (from python-dateutil>=2.8.1->pandas) (1.16.0)\n"
          ]
        }
      ]
    },
    {
      "cell_type": "code",
      "source": [
        "import pandas as pd\n",
        "\n",
        "# Read the CSV file into a DataFrame\n",
        "df = pd.read_csv('orders.csv')\n",
        "\n",
        "# Convert 'order_date' to datetime format for easier manipulation\n",
        "df['order_date'] = pd.to_datetime(df['order_date'])\n",
        "\n",
        "# Task 1: Compute the total revenue generated by the online store for each month\n",
        "df['month'] = df['order_date'].dt.to_period('M')\n",
        "total_revenue_by_month = df.groupby('month')['product_price'].sum()\n",
        "print(\"Total Revenue by Month:\")\n",
        "print(total_revenue_by_month)\n",
        "\n",
        "# Task 2: Compute the total revenue generated by each product\n",
        "total_revenue_by_product = df.groupby('product_name')['product_price'].sum()\n",
        "print(\"\\nTotal Revenue by Product:\")\n",
        "print(total_revenue_by_product)\n",
        "\n",
        "# Task 3: Compute the total revenue generated by each customer\n",
        "total_revenue_by_customer = df.groupby('customer_id')['product_price'].sum()\n",
        "print(\"\\nTotal Revenue by Customer:\")\n",
        "print(total_revenue_by_customer)\n",
        "\n",
        "# Task 4: Identify the top 10 customers by revenue generated\n",
        "top_10_customers = total_revenue_by_customer.nlargest(10)\n",
        "print(\"\\nTop 10 Customers by Revenue:\")\n",
        "print(top_10_customers)\n"
      ],
      "metadata": {
        "colab": {
          "base_uri": "https://localhost:8080/"
        },
        "id": "Fb2FOLH6QR_P",
        "outputId": "65d8e64f-c296-4225-fd42-23195a208bea"
      },
      "execution_count": null,
      "outputs": [
        {
          "output_type": "stream",
          "name": "stdout",
          "text": [
            "Total Revenue by Month:\n",
            "month\n",
            "2022-01    4661\n",
            "2022-02    3471\n",
            "2022-03    2002\n",
            "2022-04    5151\n",
            "2022-05    5542\n",
            "2022-06    4515\n",
            "2022-07    3191\n",
            "2022-08    5135\n",
            "2022-09    5524\n",
            "2022-10    4347\n",
            "2022-11    5178\n",
            "2022-12    4641\n",
            "Freq: M, Name: product_price, dtype: int64\n",
            "\n",
            "Total Revenue by Product:\n",
            "product_name\n",
            "Product_1      836\n",
            "Product_10     262\n",
            "Product_100     81\n",
            "Product_11     935\n",
            "Product_12     259\n",
            "              ... \n",
            "Product_95     440\n",
            "Product_96     873\n",
            "Product_97     805\n",
            "Product_98     629\n",
            "Product_99      86\n",
            "Name: product_price, Length: 100, dtype: int64\n",
            "\n",
            "Total Revenue by Customer:\n",
            "customer_id\n",
            "2     1193\n",
            "3      738\n",
            "4      547\n",
            "5      412\n",
            "6      829\n",
            "7      403\n",
            "8     1296\n",
            "9      839\n",
            "10     526\n",
            "11    2759\n",
            "12     600\n",
            "13    2003\n",
            "14    2534\n",
            "15    1091\n",
            "16     220\n",
            "17     152\n",
            "18     116\n",
            "19    1142\n",
            "20    1265\n",
            "21     465\n",
            "23    1044\n",
            "25     332\n",
            "26    2436\n",
            "27     610\n",
            "28     664\n",
            "29    1101\n",
            "30     823\n",
            "31    1120\n",
            "32     473\n",
            "33     836\n",
            "34    2996\n",
            "35    1021\n",
            "36     702\n",
            "37     685\n",
            "38    1210\n",
            "40    1019\n",
            "41    1661\n",
            "42     660\n",
            "44     863\n",
            "45    1649\n",
            "46     817\n",
            "47    1376\n",
            "48    1152\n",
            "49    2535\n",
            "50    1743\n",
            "52    1567\n",
            "53     948\n",
            "54    1125\n",
            "55     543\n",
            "57     517\n",
            "Name: product_price, dtype: int64\n",
            "\n",
            "Top 10 Customers by Revenue:\n",
            "customer_id\n",
            "34    2996\n",
            "11    2759\n",
            "49    2535\n",
            "14    2534\n",
            "26    2436\n",
            "13    2003\n",
            "50    1743\n",
            "41    1661\n",
            "45    1649\n",
            "52    1567\n",
            "Name: product_price, dtype: int64\n"
          ]
        }
      ]
    },
    {
      "cell_type": "code",
      "source": [
        "import unittest\n",
        "from datetime import datetime, timedelta\n",
        "import random\n",
        "import pandas as pd\n",
        "\n",
        "# Function to generate a sample dataset\n",
        "def generate_sample_dataset():\n",
        "    order_ids = list(range(1, 101))\n",
        "    customer_ids = [random.randint(1, 57) for _ in range(100)]\n",
        "    order_dates = [datetime(2022, 1, 1) + timedelta(days=random.randint(1, 365)) for _ in range(100)]\n",
        "    product_ids = [random.randint(1, 123) for _ in range(100)]\n",
        "    product_names = [f'Product_{i}' for i in product_ids]\n",
        "    product_prices = [random.randint(10, 1000) for _ in range(100)]\n",
        "    quantities = [random.randint(1, 7) for _ in range(100)]\n",
        "\n",
        "    data = {\n",
        "        'order_id': order_ids,\n",
        "        'customer_id': customer_ids,\n",
        "        'order_date': order_dates,\n",
        "        'product_id': product_ids,\n",
        "        'product_name': product_names,\n",
        "        'product_price': product_prices,\n",
        "        'quantity': quantities\n",
        "    }\n",
        "\n",
        "    return pd.DataFrame(data)\n",
        "\n",
        "# Test class\n",
        "class TestTanXFunctions(unittest.TestCase):\n",
        "    def setUp(self):\n",
        "        # Generate a sample dataset for testing\n",
        "        self.sample_data = generate_sample_dataset()\n",
        "\n",
        "    def test_compute_total_revenue_by_month(self):\n",
        "        # Your test case for compute_total_revenue_by_month\n",
        "        pass\n",
        "\n",
        "    def test_compute_total_revenue_by_product(self):\n",
        "        # Your test case for compute_total_revenue_by_product\n",
        "        pass\n",
        "\n",
        "    def test_compute_total_revenue_by_customer(self):\n",
        "        # Your test case for compute_total_revenue_by_customer\n",
        "        pass\n",
        "\n",
        "    def test_identify_top_customers(self):\n",
        "        # Your test case for identify_top_customers\n",
        "        pass\n",
        "\n",
        "# Run the tests\n",
        "unittest.TextTestRunner().run(unittest.TestLoader().loadTestsFromTestCase(TestTanXFunctions))\n"
      ],
      "metadata": {
        "colab": {
          "base_uri": "https://localhost:8080/"
        },
        "id": "UYSIe8QrQXqN",
        "outputId": "ccda4e0f-21e5-42c3-d295-9476aa8d145f"
      },
      "execution_count": null,
      "outputs": [
        {
          "output_type": "stream",
          "name": "stderr",
          "text": [
            "....\n",
            "----------------------------------------------------------------------\n",
            "Ran 4 tests in 0.025s\n",
            "\n",
            "OK\n"
          ]
        },
        {
          "output_type": "execute_result",
          "data": {
            "text/plain": [
              "<unittest.runner.TextTestResult run=4 errors=0 failures=0>"
            ]
          },
          "metadata": {},
          "execution_count": 6
        }
      ]
    }
  ]
}